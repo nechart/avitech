{
 "cells": [
  {
   "cell_type": "code",
   "execution_count": 1,
   "metadata": {},
   "outputs": [
    {
     "name": "stdout",
     "output_type": "stream",
     "text": [
      "pip 20.2.3 from c:\\python\\python38\\lib\\site-packages\\pip (python 3.8)\n",
      "\n"
     ]
    }
   ],
   "source": [
    "!pip --version"
   ]
  },
  {
   "cell_type": "code",
   "execution_count": 2,
   "metadata": {},
   "outputs": [
    {
     "name": "stdout",
     "output_type": "stream",
     "text": [
      "Name: avitech\n",
      "Version: 0.1.3\n",
      "Summary: Avitech learning package\n",
      "Home-page: UNKNOWN\n",
      "Author: Nechaev Artem\n",
      "Author-email: None\n",
      "License: UNKNOWN\n",
      "Location: c:\\python\\python38\\lib\\site-packages\n",
      "Requires: \n",
      "Required-by: \n"
     ]
    }
   ],
   "source": [
    "!pip show avitech"
   ]
  },
  {
   "cell_type": "code",
   "execution_count": null,
   "metadata": {},
   "outputs": [],
   "source": [
    "import dangerlab.game as game"
   ]
  },
  {
   "cell_type": "code",
   "execution_count": 3,
   "metadata": {},
   "outputs": [
    {
     "data": {
      "application/vnd.jupyter.widget-view+json": {
       "model_id": "c86aa76627344770ad56110e91294ed3",
       "version_major": 2,
       "version_minor": 0
      },
      "text/plain": [
       "VBox(children=(Image(value=b'\\xff\\xd8\\xff\\xe1\\x0czExif\\x00\\x00MM\\x00*\\x00\\x00\\x00\\x08\\x00\\x07\\x01\\x12\\x00\\x03\\…"
      ]
     },
     "metadata": {},
     "output_type": "display_data"
    },
    {
     "data": {
      "application/vnd.jupyter.widget-view+json": {
       "model_id": "eddafdd88c4847bb8cbb60c5c07f9268",
       "version_major": 2,
       "version_minor": 0
      },
      "text/plain": [
       "Output()"
      ]
     },
     "metadata": {},
     "output_type": "display_data"
    }
   ],
   "source": [
    "import dangerlab.game as game\n",
    "import dangerlab.levels as levels\n",
    "\n",
    "labgame = game.DangerLabirintGame()\n",
    "labgame.set_levels(levels.levels)\n",
    "labgame.launch()"
   ]
  },
  {
   "cell_type": "code",
   "execution_count": 10,
   "metadata": {
    "scrolled": true
   },
   "outputs": [
    {
     "name": "stdout",
     "output_type": "stream",
     "text": [
      "Looking in links: --upgrade"
     ]
    },
    {
     "name": "stderr",
     "output_type": "stream",
     "text": [
      "WARNING: Url '--upgrade' is ignored. It is either a non-existing path or lacks a specific scheme.\n",
      "ERROR: Could not find a version that satisfies the requirement avitech (from versions: none)\n",
      "ERROR: No matching distribution found for avitech\n"
     ]
    },
    {
     "name": "stdout",
     "output_type": "stream",
     "text": [
      "\n"
     ]
    }
   ],
   "source": [
    "!pip install avitech --no-index --find-links --upgrade --force-reinstall"
   ]
  },
  {
   "cell_type": "code",
   "execution_count": 6,
   "metadata": {},
   "outputs": [],
   "source": [
    "from dangerlab.enums import *\n",
    "def bot(obj_up, obj_down, obj_left, obj_right, is_hide):\n",
    "    \"\"\"\n",
    "    Параметры: \n",
    "    - obj_up, obj_down, obj_left, obj_right\n",
    "    Типы объектов:  0 - стена, 1 - коридор, 3 - страж, 4 - сокровища\n",
    "    - is_hide - состояние игрока (спрятан он или нет)\n",
    "    Действие action: 'up', 'down', 'left', 'right', 'hide', 'pick', 'none'\n",
    "    \"\"\"\n",
    "    if obj_right == obj.space:\n",
    "        action = 'right'\n",
    "    elif obj_right == obj.guard: # and is_hide is not True:\n",
    "        action = 'hide'\n",
    "    elif obj_right == obj.chest:\n",
    "        action = 'pick'        \n",
    "    else:\n",
    "        if obj_down == obj.space:\n",
    "            action = 'down'\n",
    "        elif obj_down == obj.guard: # and is_hide is not True:\n",
    "            action = 'hide'\n",
    "        elif obj_down == obj.chest:\n",
    "            action = 'pick'        \n",
    "        else:            \n",
    "            if obj_up == obj.space:\n",
    "                action = 'up'\n",
    "            elif obj_up == obj.guard: # and is_hide is not True:\n",
    "                action = 'hide'\n",
    "            elif obj_up == obj.chest:\n",
    "                action = 'pick'        \n",
    "            else:            \n",
    "                if obj_left == obj.space:\n",
    "                    action = 'left'\n",
    "                elif obj_left == obj.guard: # and is_hide is not True:\n",
    "                    action = 'hide'\n",
    "                elif obj_left == obj.chest:\n",
    "                    action = 'pick'        \n",
    "        \n",
    "    #print(obj_up, obj_down, obj_left, obj_right, is_hide)\n",
    "        \n",
    "    return action"
   ]
  },
  {
   "cell_type": "code",
   "execution_count": 7,
   "metadata": {},
   "outputs": [
    {
     "data": {
      "application/vnd.jupyter.widget-view+json": {
       "model_id": "3bc71a58886c4b36ba26ccd24bc642af",
       "version_major": 2,
       "version_minor": 0
      },
      "text/plain": [
       "VBox(children=(Image(value=b'\\xff\\xd8\\xff\\xe1\\x0czExif\\x00\\x00MM\\x00*\\x00\\x00\\x00\\x08\\x00\\x07\\x01\\x12\\x00\\x03\\…"
      ]
     },
     "metadata": {},
     "output_type": "display_data"
    },
    {
     "data": {
      "application/vnd.jupyter.widget-view+json": {
       "model_id": "aa441835a1d741499040dbb5815da745",
       "version_major": 2,
       "version_minor": 0
      },
      "text/plain": [
       "Output()"
      ]
     },
     "metadata": {},
     "output_type": "display_data"
    }
   ],
   "source": [
    "import dangerlab.game as game\n",
    "import dangerlab.levels as levels\n",
    "\n",
    "labgame = game.DangerLabirintGame()\n",
    "labgame.set_levels(levels.levels)\n",
    "labgame.set_bot(bot)\n",
    "labgame.launch()\n"
   ]
  },
  {
   "cell_type": "code",
   "execution_count": null,
   "metadata": {},
   "outputs": [],
   "source": []
  }
 ],
 "metadata": {
  "kernelspec": {
   "display_name": "Python 3.8.2 64-bit",
   "language": "python",
   "name": "python38264bit7db4d3623cd246b5b23803dcfdb6d742"
  },
  "language_info": {
   "codemirror_mode": {
    "name": "ipython",
    "version": 3
   },
   "file_extension": ".py",
   "mimetype": "text/x-python",
   "name": "python",
   "nbconvert_exporter": "python",
   "pygments_lexer": "ipython3",
   "version": "3.8.2"
  },
  "toc": {
   "base_numbering": 1,
   "nav_menu": {},
   "number_sections": true,
   "sideBar": true,
   "skip_h1_title": false,
   "title_cell": "Table of Contents",
   "title_sidebar": "Contents",
   "toc_cell": false,
   "toc_position": {},
   "toc_section_display": true,
   "toc_window_display": false
  }
 },
 "nbformat": 4,
 "nbformat_minor": 2
}
