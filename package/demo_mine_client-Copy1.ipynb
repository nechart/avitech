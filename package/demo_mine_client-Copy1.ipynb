{
 "cells": [
  {
   "cell_type": "code",
   "execution_count": 1,
   "metadata": {},
   "outputs": [],
   "source": [
    "#!pip --version"
   ]
  },
  {
   "cell_type": "code",
   "execution_count": 1,
   "metadata": {},
   "outputs": [
    {
     "name": "stdout",
     "output_type": "stream",
     "text": [
      "Looking in links: c:\\GIT\\avitech\\package\\dist\n",
      "Processing c:\\git\\avitech\\package\\dist\\avitech-0.1.5.tar.gz\n",
      "Building wheels for collected packages: avitech\n",
      "  Building wheel for avitech (setup.py): started\n",
      "  Building wheel for avitech (setup.py): finished with status 'done'\n",
      "  Created wheel for avitech: filename=avitech-0.1.5-py3-none-any.whl size=89999 sha256=67709da30d3d69165932623b5068832a4383a7e180a506fbab503f9c08fa94a3\n",
      "  Stored in directory: C:\\Users\\Артем\\AppData\\Local\\Temp\\pip-ephem-wheel-cache-na5xwa3n\\wheels\\cf\\93\\ec\\bc4720e2c424da239ec4f7d3d9cc2eb5463ac228c6ac7cb35b\n",
      "Successfully built avitech\n",
      "Installing collected packages: avitech\n",
      "  Attempting uninstall: avitech\n",
      "    Found existing installation: avitech 0.1.5\n",
      "    Uninstalling avitech-0.1.5:\n",
      "      Successfully uninstalled avitech-0.1.5\n",
      "Successfully installed avitech-0.1.5\n"
     ]
    }
   ],
   "source": [
    "!pip install --no-cache-dir --upgrade --force avitech --no-index --find-links  C:\\GIT\\avitech\\package\\dist"
   ]
  },
  {
   "cell_type": "code",
   "execution_count": 8,
   "metadata": {},
   "outputs": [],
   "source": [
    "import logging\n",
    "logging.basicConfig(filename='C:\\\\Git\\\\avitech\\\\package\\\\test2.log', level=logging.DEBUG) #encoding='utf-8', "
   ]
  },
  {
   "cell_type": "code",
   "execution_count": 9,
   "metadata": {},
   "outputs": [],
   "source": [
    "logging.warning('This message should go to the log file')"
   ]
  },
  {
   "cell_type": "code",
   "execution_count": 3,
   "metadata": {},
   "outputs": [],
   "source": [
    "from avi.mine.enums import *\n",
    "#from avi.mine.client import Client\n",
    "from avi.mine import map\n",
    "\"\"\"\n",
    "game = Player(server_name) \n",
    "game.play() # отобразить игру. статус игрока меняется на 1\n",
    "while game.active():  # active проверяет статус сервера и игрока. если сервер выключился - выходит, если игрок умер (статус 2, выполняем game.reconnect()\n",
    "    objs = game.get_objs() # select from map\n",
    "    game.move('right')\n",
    "\"\"\"\n",
    "\n",
    "class Player():\n",
    "    def __init__(self, server_name, ava = avatar.cowboy):\n",
    "        self.client = Client()\n",
    "        self.client.connect(server_name, ava)\n",
    "\n",
    "    def active(self):\n",
    "        # проверить статус сервера и игрока\n",
    "        self.client.refresh_user()\n",
    "        self.client.refresh_server()\n",
    "        return self.client.check_state()\n",
    "\n",
    "    def play(self):\n",
    "        # запустить игру\n",
    "        self.client.start()\n",
    "\n",
    "    def move_right(self):\n",
    "        # идти вправо\n",
    "        return self.client.make_action(action.move_right)\n",
    "\n",
    "    def move_left(self):\n",
    "        # идти влево\n",
    "        return self.client.make_action(action.move_left) \n",
    "\n",
    "    def move_up(self):\n",
    "        # идти вверх\n",
    "        return self.client.make_action(action.move_up) \n",
    "\n",
    "    def move_down(self):\n",
    "        # идти вниз\n",
    "        return self.client.make_action(action.move_down) \n",
    "\n",
    "    def move(self, dir):\n",
    "        # двигаться. dir: right, left, down, up\n",
    "        if dir == 'up':\n",
    "            return self.move_up()\n",
    "        elif dir == 'down':\n",
    "            return self.move_down()\n",
    "        elif dir == 'left':\n",
    "            return self.move_left()\n",
    "        elif dir == 'right':\n",
    "            return self.move_right()\n",
    "        return False\n",
    "\n",
    "    def pick(self):\n",
    "        # взять сокровище\n",
    "        return self.client.make_action(action.pick) \n",
    "\n",
    "    def hide(self):\n",
    "        # спрятаться\n",
    "        return self.client.make_action(action.hide) \n",
    "\n",
    "    def get_pos(self):\n",
    "        # получить координаты игрока (row,col)\n",
    "        self.client.refresh_user()\n",
    "        return (self.client.user['row'], self.client.user['col'])\n",
    "\n",
    "    def get_objs(self):\n",
    "        # осмотреться\n",
    "        self.client.refresh_user()\n",
    "        return map.get_objs(self.client.server, self.client.user['row'], self.client.user['col'], con=self.client.con)\n",
    "\n",
    "    def get_chests(self):\n",
    "        # получить список координат сокровищ [(row1, col1), (row2, col2)]\n",
    "        cells = map.get_objs_by_type(serverid = self.client.server['id'], obj_type=obj.chest, con=self.client.con)\n",
    "        chests = []\n",
    "        for cell in cells:\n",
    "            chests.append((cell['row'], cell['col']))\n",
    "        return chests\n",
    "\n",
    "    def get_guards(self):\n",
    "        # получить список координат стражей [(row1, col1), (row2, col2)]\n",
    "        cells = map.get_objs_by_type(serverid = self.client.server['id'], obj_type=obj.guard, con=self.client.con)\n",
    "        chests = []\n",
    "        for cell in cells:\n",
    "            chests.append((cell['row'], cell['col']))\n",
    "        return chests        \n",
    "\n",
    "    def get_players(self):\n",
    "        # получить список координат игроков [(row1, col1), (row2, col2)]\n",
    "        cells = map.get_objs_by_type(serverid = self.client.server['id'], obj_type=obj.player, con=self.client.con)\n",
    "        chests = []\n",
    "        for cell in cells:\n",
    "            chests.append((cell['row'], cell['col']))\n",
    "        return chests                \n",
    "\n",
    "    def get_walls(self):\n",
    "        # получить список координат препятствий [(row1, col1), (row2, col2)]\n",
    "        cells = map.get_objs_by_type(serverid = self.client.server['id'], obj_type=obj.wall, con=self.client.con)\n",
    "        chests = []\n",
    "        for cell in cells:\n",
    "            chests.append((cell['row'], cell['col']))\n",
    "        return chests                        "
   ]
  },
  {
   "cell_type": "code",
   "execution_count": null,
   "metadata": {},
   "outputs": [],
   "source": [
    "path = str(pathlib.Path().absolute()) + \"\\\\avi\\\\mine\""
   ]
  },
  {
   "cell_type": "code",
   "execution_count": 4,
   "metadata": {},
   "outputs": [],
   "source": [
    "import getpass\n",
    "from time import sleep\n",
    "from threading import Thread\n",
    "import pathlib\n",
    "from datetime import datetime\n",
    "\n",
    "from ipywidgets import widgets, Label, HTML, HBox, Image, VBox, Box, HBox, Layout, Button, GridBox\n",
    "from ipycanvas import Canvas, MultiCanvas, hold_canvas\n",
    "from IPython.display import display, clear_output\n",
    "\n",
    "from avi.mine.enums import *\n",
    "from avi.mine.server import Server\n",
    "from avi.mine.data import server\n",
    "from avi.mine.data.user import *\n",
    "from avi.mine.data import event\n",
    "from avi.mine import map\n",
    "from avi.mine.data import base\n",
    "\n",
    "\"\"\"\n",
    "Класс client как перегрузка DLGameTask в котором перегружаем работу с картой.\n",
    "Вместо списка levelmap обращаемся к базе\n",
    "Вместо выполнения действия пишем в очередь и ждем\n",
    "Остальное все сохраняется\n",
    "+ добавляем координаты сокровищ (зажигать на карте?)\n",
    "+ добавляем справа список пользователей со счетом\n",
    "+ статус подключения. кнопка стоп. кнопка реконнект\n",
    "+ если умер, то киллс + 1 и на воскрешение\n",
    "\"\"\"\n",
    "REDRAW_LAG = 0.2\n",
    "KILL_LAG = 2\n",
    "CELL_PIXELS = 40\n",
    "\n",
    "#path = str(pathlib.Path(__file__).parent.absolute())\n",
    "path = str(pathlib.Path().absolute()) + \"\\\\avi\\\\mine\"\n",
    "\n",
    "class Client():\n",
    "    def __init__(self):\n",
    "        self.user_name = 'test2' #getpass.getuser()\n",
    "        self.drawer = None\n",
    "\n",
    "    def connect(self, server_name, ava = avatar.cowboy):\n",
    "        self.con = base.connect()\n",
    "        self.server = server.find_server(server_name, self.con)\n",
    "        if self.server is None:\n",
    "            raise ValueError('Сервер {} не найден'.format(server_name))\n",
    "        self.user = find_or_create_user(self.server['id'], self.user_name, self.con)\n",
    "        self.user['avatar'] = ava\n",
    "        update_user(self.user, self.con)\n",
    "        self.userid = self.user['id']\n",
    "\n",
    "        if self.send_event(action.spawn) == action_state.processed:\n",
    "            print('Ожидание подключения к серверу {}...'.format(server_name))\n",
    "            self.user = find_user(self.userid)\n",
    "            self.user['state'] = player_state.active\n",
    "            self.user['score'] = 0\n",
    "            self.user['kills'] = 0\n",
    "            update_user(self.user, self.con)\n",
    "            clear_output(wait=True)\n",
    "            #print('Пользователь {} успешно подключен к серверу {}...'.format(self.user_name, server_name))\n",
    "        else:\n",
    "            raise ValueError('Не удалось подключить пользователя {}'.format(self.user_name))\n",
    "\n",
    "    def refresh_user(self):\n",
    "        self.user = find_user(self.userid, self.con)\n",
    "\n",
    "    def refresh_server(self):\n",
    "        self.server = server.find_server_id(self.server['id'], self.con)\n",
    "\n",
    "    def check_state(self):\n",
    "        return self.user['state'] != player_state.inactive and self.server['state'] == server_state.active\n",
    "\n",
    "    def send_event(self, act=action.spawn):\n",
    "        self.refresh_user()\n",
    "        if self.user['state'] in [player_state.inactive, player_state.killed]  and act != action.spawn:\n",
    "            return action_state.rejected\n",
    "\n",
    "        return event.send_event(self.server['id'], self.userid, act, self.con)\n",
    "\n",
    "    def make_action(self, act = action.spawn):\n",
    "        state = self.send_event(act)\n",
    "        #self.redraw()\n",
    "        return state == action_state.processed\n",
    "\n",
    "    def start(self, b = None):\n",
    "        if self.drawer != None:\n",
    "            self.stop()    \n",
    "        self.drawer = Drawer(self)\n",
    "        self.drawer.display()\n",
    "        self.drawer.draw_base()\n",
    "        self.drawer.start()\n",
    "        return True\n",
    "\n",
    "    def stop(self, b = None):\n",
    "        self.drawer.stop = True\n",
    "\n",
    "########################################################################################################################\n",
    "class Drawer(Thread):\n",
    "    def __init__(self, client):\n",
    "        self.client = client\n",
    "        self.stop = False\n",
    "        self.map = None\n",
    "        self.users = None\n",
    "        self.user_scores = None\n",
    "        self.init_images()\n",
    "        super(Drawer, self).__init__()\n",
    "\n",
    "    def init_images(self):\n",
    "\n",
    "        self.images_ava = {}\n",
    "        self.images_ava_hide = {}        \n",
    "        avatars = [avatar.cowboy, avatar.stan, avatar.rock, avatar.pig, avatar.glass, avatar.dipper, avatar.zoose, \\\n",
    "                    avatar.super, avatar.garry, avatar.chui, avatar.lord, avatar.bill,]\n",
    "\n",
    "        for ava in avatars:\n",
    "            self.images_ava[(obj.player, ava)] = Image.from_file(path + '/images/avatar/{}.png'.format(ava))\n",
    "            self.images_ava_hide[ava] = Image.from_file(path + '/images/avatar/{}_h.png'.format(ava))            \n",
    "\n",
    "        for ava in ava_guard.items():\n",
    "            self.images_ava[(obj.guard, ava)] = Image.from_file(path + '/images/{}.png'.format(ava))\n",
    "\n",
    "        for ava in ava_chest.items():\n",
    "            self.images_ava[(obj.chest, ava)] = Image.from_file(path + '/images/{}.png'.format(ava))\n",
    "        self.images_ava[(obj.wall, '')] = Image.from_file(path + '/images/wall.jpg')\n",
    "        self.image_killed = Image.from_file(path + '/images/player_loss.png')\n",
    "        self.image_space = Image.from_file(path + '/images/space.jpg')\n",
    "\n",
    "    def create_panel(self):\n",
    "        # images button https://fontawesome.com/v4.7.0/icons/\n",
    "        items_layout = Layout( width='80px')     # override the default width of the button to 'auto' to let the button grow\n",
    "\n",
    "        box_layout = Layout(display='flex',\n",
    "                            flex_flow='column',\n",
    "                            align_items='stretch',\n",
    "                            border='solid')\n",
    "                            #,width='30%')\n",
    "\n",
    "        self.label_game_status = Label('Подключение к серверу...')\n",
    "        \n",
    "        self.panel_users = GridBox(children=[], layout=Layout(grid_template_columns=\"80px 80px 30px\"))\n",
    "\n",
    "        # панель запуска-остановки-паузы\n",
    "        #b_play = Button(description='ИГРА',icon = 'fa-play', layout = items_layout)\n",
    "        b_stop = Button(description='СТОП',icon = 'fa-stop', layout = items_layout)\n",
    "        \n",
    "        #b_play.on_click(self.client.start) # client.start) \n",
    "        b_stop.on_click(self.client.stop) \n",
    "\n",
    "        panel = VBox([HBox([Label('Сервер:'), Label(self.client.server['name']), self.label_game_status]),\n",
    "                          HBox([Label('Игрок:'),Label(self.client.user_name), b_stop]),\n",
    "                          self.panel_users],\n",
    "                      layout=box_layout)    \n",
    "        return panel          \n",
    "        \n",
    "    def update_panel(self, b=None):\n",
    "        state_caption = 'Активен' if self.client.server['state'] == server_state.active else 'Остановлен'\n",
    "        if self.label_game_status.value != state_caption:\n",
    "            self.label_game_status.value = state_caption\n",
    "        user_scores = {}\n",
    "        user_ava = {}\n",
    "        for user_rec in self.users:\n",
    "            user_scores[user_rec['name']] = user_rec['score'] - user_rec['kills']*3\n",
    "            user_ava[user_rec['name']] = user_rec['avatar']\n",
    "        changed = user_scores.values() != self.user_scores.values() if not self.user_scores is None else True\n",
    "\n",
    "        if changed:\n",
    "            items = []\n",
    "            for user_name, score in sorted(user_scores.items(), key=lambda x: x[1], reverse = True) :\n",
    "                items.append(Label(user_name))\n",
    "                items.append(Label(user_ava[user_name]))\n",
    "                items.append(Label(str(score)))\n",
    "            self.panel_users.children = items\n",
    "            self.user_scores = user_scores\n",
    "                \n",
    "    def display(self):\n",
    "        multi = MultiCanvas(2, width=self.client.server['mapsize_x'] * CELL_PIXELS, height=self.client.server['mapsize_y'] * CELL_PIXELS)\n",
    "        #multi[0].fill_style = 'black'\n",
    "        #multi[0].fill_rect(0, 0, multi.size[0], multi.size[1])\n",
    "        self.canvas_base = multi[0]\n",
    "        self.canvas = multi[1]\n",
    "        \n",
    "        panel = self.create_panel()\n",
    "        \n",
    "        self.output = widgets.Output()\n",
    "        self.output.clear_output()\n",
    "        #display(VBox([Image.from_file(path + '/images/header.jpg', width=200,height=40), HBox([multi])]), self.output)        \n",
    "        display(HBox([multi, panel]), self.output)        \n",
    "\n",
    "    def draw_base(self):\n",
    "        self.update_map()\n",
    "        with hold_canvas(self.canvas_base):\n",
    "            self.canvas_base.clear()\n",
    "            self.canvas_base.fill_style = 'black'\n",
    "            self.canvas_base.fill_rect(0, 0, self.canvas_base.size[0], self.canvas_base.size[1])\n",
    "            for row in range(len(self.map)):\n",
    "                for col in range(len(self.map[row])):\n",
    "                    cell = self.map[row][col]\n",
    "                    if cell['obj'] == obj.wall:\n",
    "                        self.canvas_base.draw_image(self.images_ava[(obj.wall, '')], col * CELL_PIXELS, row * CELL_PIXELS)\n",
    "        \n",
    "    def redraw(self):\n",
    "        if self.update_map():\n",
    "            with hold_canvas(self.canvas):\n",
    "                for row in range(len(self.map)):\n",
    "                    for col in range(len(self.map[row])):\n",
    "                        cell = self.map[row][col]\n",
    "                        if cell['obj'] == obj.player:\n",
    "                            for user_i in self.users:\n",
    "                                if user_i['id'] == cell['userid']:\n",
    "                                    if user_i['state'] == player_state.hide:\n",
    "                                        self.canvas.clear_rect(col * CELL_PIXELS, row * CELL_PIXELS, CELL_PIXELS, CELL_PIXELS)\n",
    "                                        self.canvas.draw_image(self.images_ava_hide[cell['image']], col * CELL_PIXELS, row * CELL_PIXELS)\n",
    "                                    elif user_i['state'] == player_state.active:\n",
    "                                        self.canvas.clear_rect(col * CELL_PIXELS, row * CELL_PIXELS, CELL_PIXELS, CELL_PIXELS)\n",
    "                                        self.canvas.draw_image(self.images_ava[(cell['obj'], cell['image'])], col * CELL_PIXELS, row * CELL_PIXELS)            \n",
    "                                    elif user_i['state'] == player_state.killed:\n",
    "                                        self.canvas.draw_image(self.image_killed, col * CELL_PIXELS, row * CELL_PIXELS)            \n",
    "                                    elif user_i['state'] == player_state.inactive:\n",
    "                                        self.canvas.clear_rect(col * CELL_PIXELS, row * CELL_PIXELS, CELL_PIXELS, CELL_PIXELS)\n",
    "                        elif cell['obj'] in [obj.chest, obj.guard]:                                    \n",
    "                            self.canvas.draw_image(self.images_ava[(cell['obj'], cell['image'])], col * CELL_PIXELS, row * CELL_PIXELS)\n",
    "                        elif cell['obj'] == obj.space:                                                                \n",
    "                            self.canvas.clear_rect(col * CELL_PIXELS, row * CELL_PIXELS, CELL_PIXELS, CELL_PIXELS)\n",
    "            self.update_panel()\n",
    "                                       \n",
    "    def update_map(self):\n",
    "        changed = False\n",
    "        new_map = map.get_all(self.client.server, self.client.con)\n",
    "        if self.map is None or self.map != new_map:\n",
    "            self.map = new_map\n",
    "            changed = True\n",
    "\n",
    "        new_users = find_all_users(self.client.server['id'], self.client.con)\n",
    "        if self.users is None or self.users != new_users:\n",
    "            self.users = new_users\n",
    "            changed = True\n",
    "        self.client.refresh_user()\n",
    "        self.client.refresh_server()\n",
    "        return changed\n",
    "    \n",
    "    def run(self):\n",
    "        while(True):\n",
    "            try:\n",
    "                if not self.client.check_state() or self.stop: \n",
    "                    self.label_game_status.value = 'Остановлен'\n",
    "                    self.output.clear_output()\n",
    "                    return\n",
    "                self.redraw()\n",
    "\n",
    "                if self.client.user['state'] == player_state.killed:\n",
    "                    if (datetime.utcnow() - self.client.user['kill_dt']).total_seconds() >= KILL_LAG:\n",
    "                        event.send_event(self.client.server['id'], self.client.userid, action.spawn, self.client.con)\n",
    "\n",
    "                sleep(REDRAW_LAG)\n",
    "            except Exception as e:\n",
    "                logging.error('Error at %s', 'division', exc_info=e)"
   ]
  },
  {
   "cell_type": "code",
   "execution_count": 5,
   "metadata": {},
   "outputs": [
    {
     "data": {
      "application/vnd.jupyter.widget-view+json": {
       "model_id": "c471d0ce421b486a938d063d9d3b7b31",
       "version_major": 2,
       "version_minor": 0
      },
      "text/plain": [
       "HBox(children=(MultiCanvas(height=400, width=400), VBox(children=(HBox(children=(Label(value='Сервер:'), Label…"
      ]
     },
     "metadata": {},
     "output_type": "display_data"
    },
    {
     "data": {
      "application/vnd.jupyter.widget-view+json": {
       "model_id": "c19242e11d9e48529d187fdfbc0c2b68",
       "version_major": 2,
       "version_minor": 0
      },
      "text/plain": [
       "Output()"
      ]
     },
     "metadata": {},
     "output_type": "display_data"
    }
   ],
   "source": [
    "game = Player('4cubes', avatar.lord) \n",
    "game.play()\n",
    "#game.client.drawer = Drawer(game.client)\n",
    "#game.client.drawer.display()\n",
    "#game.client.drawer.draw_base()"
   ]
  },
  {
   "cell_type": "code",
   "execution_count": 18,
   "metadata": {
    "scrolled": false
   },
   "outputs": [
    {
     "data": {
      "text/plain": [
       "True"
      ]
     },
     "execution_count": 18,
     "metadata": {},
     "output_type": "execute_result"
    }
   ],
   "source": [
    "game.client.check_state()"
   ]
  },
  {
   "cell_type": "code",
   "execution_count": 12,
   "metadata": {},
   "outputs": [
    {
     "data": {
      "text/plain": [
       "True"
      ]
     },
     "execution_count": 12,
     "metadata": {},
     "output_type": "execute_result"
    }
   ],
   "source": [
    "game.client.drawer.update_map()"
   ]
  },
  {
   "cell_type": "code",
   "execution_count": 11,
   "metadata": {},
   "outputs": [
    {
     "data": {
      "text/plain": [
       "False"
      ]
     },
     "execution_count": 11,
     "metadata": {},
     "output_type": "execute_result"
    }
   ],
   "source": [
    "game.client.drawer.stop"
   ]
  },
  {
   "cell_type": "code",
   "execution_count": 14,
   "metadata": {},
   "outputs": [
    {
     "data": {
      "text/plain": [
       "True"
      ]
     },
     "execution_count": 14,
     "metadata": {},
     "output_type": "execute_result"
    }
   ],
   "source": [
    "game.move_up()\n",
    "#game.move_left()\n",
    "#game.move_down()\n",
    "#game.move_right()\n",
    "#for _ in range(3):\n",
    "#    game.move_left()\n",
    "#game.pick()"
   ]
  },
  {
   "cell_type": "code",
   "execution_count": 9,
   "metadata": {},
   "outputs": [],
   "source": []
  },
  {
   "cell_type": "code",
   "execution_count": null,
   "metadata": {},
   "outputs": [],
   "source": []
  }
 ],
 "metadata": {
  "kernelspec": {
   "display_name": "Python 3.8.2 64-bit",
   "language": "python",
   "name": "python38264bit7db4d3623cd246b5b23803dcfdb6d742"
  },
  "language_info": {
   "codemirror_mode": {
    "name": "ipython",
    "version": 3
   },
   "file_extension": ".py",
   "mimetype": "text/x-python",
   "name": "python",
   "nbconvert_exporter": "python",
   "pygments_lexer": "ipython3",
   "version": "3.8.2"
  },
  "toc": {
   "base_numbering": 1,
   "nav_menu": {},
   "number_sections": true,
   "sideBar": true,
   "skip_h1_title": false,
   "title_cell": "Table of Contents",
   "title_sidebar": "Contents",
   "toc_cell": false,
   "toc_position": {},
   "toc_section_display": true,
   "toc_window_display": false
  }
 },
 "nbformat": 4,
 "nbformat_minor": 2
}
