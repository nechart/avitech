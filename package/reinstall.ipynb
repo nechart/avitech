{
 "metadata": {
  "language_info": {
   "codemirror_mode": {
    "name": "ipython",
    "version": 3
   },
   "file_extension": ".py",
   "mimetype": "text/x-python",
   "name": "python",
   "nbconvert_exporter": "python",
   "pygments_lexer": "ipython3",
   "version": "3.8.2-final"
  },
  "orig_nbformat": 2,
  "kernelspec": {
   "name": "python38264bit7db4d3623cd246b5b23803dcfdb6d742",
   "display_name": "Python 3.8.2 64-bit"
  }
 },
 "nbformat": 4,
 "nbformat_minor": 2,
 "cells": [
  {
   "cell_type": "code",
   "execution_count": 6,
   "metadata": {
    "tags": []
   },
   "outputs": [
    {
     "output_type": "stream",
     "name": "stdout",
     "text": [
      "Looking in links: c:\\GIT\\avitech\\package\\dist\n",
      "Processing c:\\git\\avitech\\package\\dist\\avitech-0.1.5.tar.gz\n",
      "Building wheels for collected packages: avitech\n",
      "  Building wheel for avitech (setup.py): started\n",
      "  Building wheel for avitech (setup.py): finished with status 'done'\n",
      "  Created wheel for avitech: filename=avitech-0.1.5-py3-none-any.whl size=72282 sha256=994fb56dda778e82d2adaf319abda7b6ee78aaf84d18403ddf87a61dbc54e864\n",
      "  Stored in directory: C:\\Users\\Артем\\AppData\\Local\\Temp\\pip-ephem-wheel-cache-ww6b5ji6\\wheels\\cf\\93\\ec\\bc4720e2c424da239ec4f7d3d9cc2eb5463ac228c6ac7cb35b\n",
      "Successfully built avitech\n",
      "Installing collected packages: avitech\n",
      "  Attempting uninstall: avitech\n",
      "    Found existing installation: avitech 0.1.5\n",
      "    Uninstalling avitech-0.1.5:\n",
      "      Successfully uninstalled avitech-0.1.5\n",
      "Successfully installed avitech-0.1.5\n"
     ]
    }
   ],
   "source": [
    "!pip install --no-cache-dir --upgrade --force avitech --no-index --find-links  C:\\GIT\\avitech\\package\\dist"
   ]
  },
  {
   "cell_type": "code",
   "execution_count": 10,
   "metadata": {},
   "outputs": [
    {
     "output_type": "display_data",
     "data": {
      "text/plain": "VBox(children=(Image(value=b'\\xff\\xd8\\xff\\xe1\\x0czExif\\x00\\x00MM\\x00*\\x00\\x00\\x00\\x08\\x00\\x07\\x01\\x12\\x00\\x03\\…",
      "application/vnd.jupyter.widget-view+json": {
       "version_major": 2,
       "version_minor": 0,
       "model_id": "eeb3458b882f4c52a59a2d7c9d728022"
      }
     },
     "metadata": {}
    },
    {
     "output_type": "display_data",
     "data": {
      "text/plain": "Output()",
      "application/vnd.jupyter.widget-view+json": {
       "version_major": 2,
       "version_minor": 0,
       "model_id": "4fd54b15fd434687ac85a2ab2751783b"
      }
     },
     "metadata": {}
    }
   ],
   "source": [
    "import avi.dangerlab.game as labgame\n",
    "import avi.dangerlab.levels as levels\n",
    "\n",
    "labgame = labgame.DangerLabirintGame()\n",
    "labgame.set_levels(levels.levels)\n",
    "labgame.launch()"
   ]
  },
  {
   "cell_type": "code",
   "execution_count": 2,
   "metadata": {},
   "outputs": [],
   "source": [
    "import avi.dangerlab.game as labgame"
   ]
  },
  {
   "cell_type": "code",
   "execution_count": 5,
   "metadata": {},
   "outputs": [
    {
     "output_type": "display_data",
     "data": {
      "text/plain": "VBox(children=(Image(value=b'\\xff\\xd8\\xff\\xe1\\x0czExif\\x00\\x00MM\\x00*\\x00\\x00\\x00\\x08\\x00\\x07\\x01\\x12\\x00\\x03\\…",
      "application/vnd.jupyter.widget-view+json": {
       "version_major": 2,
       "version_minor": 0,
       "model_id": "e09e49529e41412d864e12ae8beaff70"
      }
     },
     "metadata": {}
    },
    {
     "output_type": "display_data",
     "data": {
      "text/plain": "Output()",
      "application/vnd.jupyter.widget-view+json": {
       "version_major": 2,
       "version_minor": 0,
       "model_id": "ea898579297d4dd4802dbac1193e3129"
      }
     },
     "metadata": {}
    },
    {
     "output_type": "stream",
     "name": "stdout",
     "text": [
      "Задача решена! Переходи к следующей...\n",
      "Все\n",
      "Все\n"
     ]
    },
    {
     "output_type": "error",
     "ename": "KeyboardInterrupt",
     "evalue": "",
     "traceback": [
      "\u001b[1;31m---------------------------------------------------------------------------\u001b[0m",
      "\u001b[1;31mKeyboardInterrupt\u001b[0m                         Traceback (most recent call last)",
      "\u001b[1;32m<ipython-input-5-64db61f259b0>\u001b[0m in \u001b[0;36m<module>\u001b[1;34m\u001b[0m\n\u001b[0;32m     19\u001b[0m     \u001b[0mprint\u001b[0m\u001b[1;33m(\u001b[0m\u001b[1;34m'Все'\u001b[0m\u001b[1;33m)\u001b[0m\u001b[1;33m\u001b[0m\u001b[1;33m\u001b[0m\u001b[0m\n\u001b[0;32m     20\u001b[0m \u001b[1;32mfor\u001b[0m \u001b[0mi\u001b[0m \u001b[1;32min\u001b[0m \u001b[0mrange\u001b[0m\u001b[1;33m(\u001b[0m\u001b[1;36m4\u001b[0m\u001b[1;33m)\u001b[0m\u001b[1;33m:\u001b[0m\u001b[1;33m\u001b[0m\u001b[1;33m\u001b[0m\u001b[0m\n\u001b[1;32m---> 21\u001b[1;33m     \u001b[0mgame\u001b[0m\u001b[1;33m.\u001b[0m\u001b[0mmove\u001b[0m\u001b[1;33m(\u001b[0m\u001b[1;34m'up'\u001b[0m\u001b[1;33m)\u001b[0m\u001b[1;33m\u001b[0m\u001b[1;33m\u001b[0m\u001b[0m\n\u001b[0m\u001b[0;32m     22\u001b[0m     \u001b[1;32mif\u001b[0m \u001b[0mchest\u001b[0m \u001b[1;32min\u001b[0m \u001b[0mgame\u001b[0m\u001b[1;33m.\u001b[0m\u001b[0mget_objs\u001b[0m\u001b[1;33m(\u001b[0m\u001b[1;33m)\u001b[0m\u001b[1;33m:\u001b[0m\u001b[1;33m\u001b[0m\u001b[1;33m\u001b[0m\u001b[0m\n\u001b[0;32m     23\u001b[0m         \u001b[0mgame\u001b[0m\u001b[1;33m.\u001b[0m\u001b[0mpick\u001b[0m\u001b[1;33m(\u001b[0m\u001b[1;33m)\u001b[0m\u001b[1;33m\u001b[0m\u001b[1;33m\u001b[0m\u001b[0m\n",
      "\u001b[1;32mC:\\Python\\Python38\\lib\\site-packages\\avi\\dangerlab\\game.py\u001b[0m in \u001b[0;36mmove\u001b[1;34m(self, dir)\u001b[0m\n\u001b[0;32m    366\u001b[0m     \u001b[1;32mdef\u001b[0m \u001b[0mmove\u001b[0m\u001b[1;33m(\u001b[0m\u001b[0mself\u001b[0m\u001b[1;33m,\u001b[0m \u001b[0mdir\u001b[0m\u001b[1;33m)\u001b[0m\u001b[1;33m:\u001b[0m\u001b[1;33m\u001b[0m\u001b[1;33m\u001b[0m\u001b[0m\n\u001b[0;32m    367\u001b[0m         \u001b[1;31m# dir: right, left, down, up\u001b[0m\u001b[1;33m\u001b[0m\u001b[1;33m\u001b[0m\u001b[1;33m\u001b[0m\u001b[0m\n\u001b[1;32m--> 368\u001b[1;33m         \u001b[0msleep\u001b[0m\u001b[1;33m(\u001b[0m\u001b[1;36m0.5\u001b[0m\u001b[1;33m)\u001b[0m\u001b[1;33m\u001b[0m\u001b[1;33m\u001b[0m\u001b[0m\n\u001b[0m\u001b[0;32m    369\u001b[0m         \u001b[0mx_player\u001b[0m \u001b[1;33m=\u001b[0m \u001b[0mself\u001b[0m\u001b[1;33m.\u001b[0m\u001b[0mget_x_player\u001b[0m\u001b[1;33m(\u001b[0m\u001b[1;33m)\u001b[0m\u001b[1;33m\u001b[0m\u001b[1;33m\u001b[0m\u001b[0m\n\u001b[0;32m    370\u001b[0m         \u001b[1;32mif\u001b[0m \u001b[0mdir\u001b[0m \u001b[1;33m==\u001b[0m \u001b[1;34m'up'\u001b[0m\u001b[1;33m:\u001b[0m\u001b[1;33m\u001b[0m\u001b[1;33m\u001b[0m\u001b[0m\n",
      "\u001b[1;31mKeyboardInterrupt\u001b[0m: "
     ]
    }
   ],
   "source": [
    "game = labgame.DLGameTask()\n",
    "game.run_task('search_border')\n",
    "chest = 4\n",
    "for i in range(4):\n",
    "    game.move('right')\n",
    "    if chest in game.get_objs():\n",
    "        game.pick()\n",
    "for i in range(4):\n",
    "    game.move('down')\n",
    "    if chest in game.get_objs():\n",
    "        game.pick() \n",
    "if not game.check_state():\n",
    "    print('Все')\n",
    "for i in range(4):\n",
    "    game.move('left')\n",
    "    if chest in game.get_objs():\n",
    "        game.pick()   \n",
    "if not game.check_state():\n",
    "    print('Все')\n",
    "for i in range(4):\n",
    "    game.move('up')\n",
    "    if chest in game.get_objs():\n",
    "        game.pick()                                     "
   ]
  },
  {
   "cell_type": "code",
   "execution_count": 2,
   "metadata": {},
   "outputs": [
    {
     "output_type": "display_data",
     "data": {
      "text/plain": "VBox(children=(Image(value=b'\\xff\\xd8\\xff\\xe1\\x0czExif\\x00\\x00MM\\x00*\\x00\\x00\\x00\\x08\\x00\\x07\\x01\\x12\\x00\\x03\\…",
      "application/vnd.jupyter.widget-view+json": {
       "version_major": 2,
       "version_minor": 0,
       "model_id": "44ea91d5cdb14192a87ae1b23e0c3a0e"
      }
     },
     "metadata": {}
    },
    {
     "output_type": "display_data",
     "data": {
      "text/plain": "Output()",
      "application/vnd.jupyter.widget-view+json": {
       "version_major": 2,
       "version_minor": 0,
       "model_id": "477fa48e7e694b13a7dab034f82c17f8"
      }
     },
     "metadata": {}
    }
   ],
   "source": [
    "import avi.dangerlab.game as labgame\n",
    "game = labgame.DLGameTask()\n",
    "game.run_task('search_empty_enemy')"
   ]
  },
  {
   "cell_type": "code",
   "execution_count": null,
   "metadata": {},
   "outputs": [],
   "source": [
    "def bot_walk_border(obj_up, obj_down, obj_left, obj_right, is_hide, level_map, bot_row, bot_col):\n",
    "    #Write code here\n",
    "    action == 'none'\n",
    "    return action\n",
    "\n",
    "labgame = game.DLGameTask()\n",
    "labgame.set_task('walk_border')\n",
    "labgame.set_bot(bot_walk_border)\n",
    "labgame.launch()"
   ]
  }
 ]
}